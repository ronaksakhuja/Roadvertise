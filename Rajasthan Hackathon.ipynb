{
 "cells": [
  {
   "cell_type": "code",
   "execution_count": 85,
   "metadata": {
    "collapsed": true
   },
   "outputs": [],
   "source": [
    "import numpy as np\n",
    "import pandas as pd\n",
    "import datetime\n",
    "import json\n",
    "from sklearn import linear_model"
   ]
  },
  {
   "cell_type": "code",
   "execution_count": 86,
   "metadata": {
    "collapsed": true
   },
   "outputs": [],
   "source": [
    "import os\n",
    "import socket\n",
    "\n",
    "if os.name != \"nt\":\n",
    "    import fcntl\n",
    "    import struct\n",
    "\n",
    "    def get_interface_ip(ifname):\n",
    "        s = socket.socket(socket.AF_INET, socket.SOCK_DGRAM)\n",
    "        return socket.inet_ntoa(fcntl.ioctl(s.fileno(), 0x8915, struct.pack('256s',\n",
    "                                ifname[:15]))[20:24])\n",
    "\n",
    "def get_lan_ip():\n",
    "    ip = socket.gethostbyname(socket.gethostname())\n",
    "    if ip.startswith(\"127.\") and os.name != \"nt\":\n",
    "        interfaces = [\n",
    "            \"eth0\",\n",
    "            \"eth1\",\n",
    "            \"eth2\",\n",
    "            \"wlan0\",\n",
    "            \"wlan1\",\n",
    "            \"wifi0\",\n",
    "            \"ath0\",\n",
    "            \"ath1\",\n",
    "            \"ppp0\",\n",
    "            ]\n",
    "        for ifname in interfaces:\n",
    "            try:\n",
    "                ip = get_interface_ip(ifname)\n",
    "                break\n",
    "            except IOError:\n",
    "                pass\n",
    "    return ip"
   ]
  },
  {
   "cell_type": "code",
   "execution_count": 8,
   "metadata": {},
   "outputs": [
    {
     "data": {
      "text/html": [
       "<div>\n",
       "<style>\n",
       "    .dataframe thead tr:only-child th {\n",
       "        text-align: right;\n",
       "    }\n",
       "\n",
       "    .dataframe thead th {\n",
       "        text-align: left;\n",
       "    }\n",
       "\n",
       "    .dataframe tbody tr th {\n",
       "        vertical-align: top;\n",
       "    }\n",
       "</style>\n",
       "<table border=\"1\" class=\"dataframe\">\n",
       "  <thead>\n",
       "    <tr style=\"text-align: right;\">\n",
       "      <th></th>\n",
       "      <th>DAY_NUM</th>\n",
       "      <th>DAY</th>\n",
       "      <th>SLOT1</th>\n",
       "      <th>SLOT2</th>\n",
       "      <th>SLOT3</th>\n",
       "      <th>SLOT4</th>\n",
       "      <th>SLOT5</th>\n",
       "      <th>SLOT6</th>\n",
       "    </tr>\n",
       "  </thead>\n",
       "  <tbody>\n",
       "    <tr>\n",
       "      <th>0</th>\n",
       "      <td>0</td>\n",
       "      <td>0</td>\n",
       "      <td>69</td>\n",
       "      <td>92.0</td>\n",
       "      <td>293.0</td>\n",
       "      <td>368.0</td>\n",
       "      <td>353.0</td>\n",
       "      <td>1.0</td>\n",
       "    </tr>\n",
       "    <tr>\n",
       "      <th>1</th>\n",
       "      <td>1</td>\n",
       "      <td>1</td>\n",
       "      <td>90</td>\n",
       "      <td>120.0</td>\n",
       "      <td>96.0</td>\n",
       "      <td>69.0</td>\n",
       "      <td>29.0</td>\n",
       "      <td>109.0</td>\n",
       "    </tr>\n",
       "    <tr>\n",
       "      <th>2</th>\n",
       "      <td>2</td>\n",
       "      <td>2</td>\n",
       "      <td>87</td>\n",
       "      <td>32.0</td>\n",
       "      <td>116.0</td>\n",
       "      <td>1.0</td>\n",
       "      <td>89.0</td>\n",
       "      <td>121.0</td>\n",
       "    </tr>\n",
       "    <tr>\n",
       "      <th>3</th>\n",
       "      <td>3</td>\n",
       "      <td>3</td>\n",
       "      <td>96</td>\n",
       "      <td>69.0</td>\n",
       "      <td>1.0</td>\n",
       "      <td>89.0</td>\n",
       "      <td>121.0</td>\n",
       "      <td>96.0</td>\n",
       "    </tr>\n",
       "  </tbody>\n",
       "</table>\n",
       "</div>"
      ],
      "text/plain": [
       "   DAY_NUM  DAY  SLOT1  SLOT2  SLOT3  SLOT4  SLOT5  SLOT6\n",
       "0        0    0     69   92.0  293.0  368.0  353.0    1.0\n",
       "1        1    1     90  120.0   96.0   69.0   29.0  109.0\n",
       "2        2    2     87   32.0  116.0    1.0   89.0  121.0\n",
       "3        3    3     96   69.0    1.0   89.0  121.0   96.0"
      ]
     },
     "execution_count": 8,
     "metadata": {},
     "output_type": "execute_result"
    }
   ],
   "source": []
  },
  {
   "cell_type": "code",
   "execution_count": 74,
   "metadata": {},
   "outputs": [
    {
     "name": "stderr",
     "output_type": "stream",
     "text": [
      "/Users/ronaksakhuja/anaconda/lib/python3.6/site-packages/ipykernel_launcher.py:69: FutureWarning: reshape is deprecated and will raise in a subsequent release. Please use .values.reshape(...) instead\n",
      "/Users/ronaksakhuja/anaconda/lib/python3.6/site-packages/matplotlib/pyplot.py:523: RuntimeWarning: More than 20 figures have been opened. Figures created through the pyplot interface (`matplotlib.pyplot.figure`) are retained until explicitly closed and may consume too much memory. (To control this warning, see the rcParam `figure.max_open_warning`).\n",
      "  max_open_warning, RuntimeWarning)\n"
     ]
    }
   ],
   "source": [
    "    a=np.random.randint(low=1000, high=1500, size=100)\n",
    "    #slot 5\n",
    "    b=np.random.randint(low=1000, high=1200, size=100)\n",
    "    #slot 6\n",
    "    c=np.random.randint(low=800,high=1000,size=100)\n",
    "    #slot 3\n",
    "    d=np.random.randint(low=600,high=900,size=100)\n",
    "    #slot 1\n",
    "    e=np.random.randint(low=400,high=700,size=100)\n",
    "    #slot 2\n",
    "    f=np.random.randint(low=200,high=500,size=100)\n",
    "\n",
    "    arr=np.array([e,f,d,a,b,c])\n",
    "    data=pd.DataFrame(columns=[\"DAY_NUM\",\"DAY\",\"SLOT1\",\"SLOT2\",\"SLOT3\",\"SLOT4\",\"SLOT5\",\"SLOT6\"])\n",
    "    data[\"DAY_NUM\"]=np.arange(100)\n",
    "    days=np.arange(7)\n",
    "    for i in range(14):\n",
    "        days=np.append(arr=days,values=np.arange(7))\n",
    "    days=days[:100]    \n",
    "    data[\"DAY\"]=days\n",
    "    data[\"SLOT1\"]=e\n",
    "    data[\"SLOT2\"]=f\n",
    "    data[\"SLOT3\"]=d\n",
    "    data[\"SLOT4\"]=a\n",
    "    data[\"SLOT5\"]=b\n",
    "    data[\"SLOT6\"]=c\n",
    "    x=np.array([]);\n",
    "    for i in range(6):\n",
    "        x=np.append(arr=a,values=data.iloc[0, 2:][i])\n",
    "    \n",
    "    now = datetime.datetime.now()\n",
    "    hour=now.hour\n",
    "    if (hour>=23 and hour<24) or (hour>0 and hour<3):\n",
    "        slot=1\n",
    "        from_time=3\n",
    "    if hour>=3 and hour<7:\n",
    "        slot=2\n",
    "        from_time=7\n",
    "    if hour>=7 and hour<11:\n",
    "        slot=3\n",
    "        from_time=11\n",
    "    if hour>=11 and hour<15:\n",
    "        slot=4\n",
    "        from_time=15\n",
    "    if hour>=15 and hour<19:\n",
    "        slot=5\n",
    "        from_time=19\n",
    "    if hour>=19 and hour<23:\n",
    "        slot=0\n",
    "        from_time=23\n",
    "        \n",
    "    \n",
    "    baseurl=get_lan_ip()+\"/img\"\n",
    "    graphing=[0,0,0,0,0,0]\n",
    "    a=[0,0,0,0,0,0]\n",
    "    x=0\n",
    "    nextday=0\n",
    "    r=http.request('GET','http://localhost/max_bidding.php')\n",
    "    js=json.loads(r.data)\n",
    "#     for j in js:\n",
    "#         print(j['time'])\n",
    "    for i in range(6):\n",
    "        train_x=np.array(data.iloc[:70,1])\n",
    "        train_y=np.array(data.iloc[:70,2+slot])\n",
    "        test=data.iloc[70:,1]\n",
    "        import datetime\n",
    "        model=linear_model.LinearRegression()\n",
    "        train_x=train_x.reshape(-1,1)\n",
    "        test=test.reshape(-1,1)\n",
    "        model.fit(train_x,train_y)\n",
    "        day=now.strftime(\"%w\")\n",
    "        y=model.predict(np.array(int(day)+nextday).reshape(-1,1))\n",
    "        graphing[x]=y[0]\n",
    "        for j in js:\n",
    "            if j['time']==str(from_time):\n",
    "                a[x]={\"fromTime\":from_time,\"toTime\":(from_time+4)%24,\"urlImage\":baseurl+str(slot)+\".png\",\"estTraffic\":y[0],\"maxBid\":j['max_bid'],\"minBid\":j['min_bid']}\n",
    "        from_time=from_time+4\n",
    "        if(from_time>24):\n",
    "            from_time=from_time%24\n",
    "        if slot == 5:\n",
    "            slot=-1\n",
    "            nextday=1\n",
    "        slot=slot+1\n",
    "        x=x+1\n",
    "\n",
    "    for i in range(6):\n",
    "        colors=['g']*(i)+['b']+['g']*(6-i-1)\n",
    "        dfs=pd.DataFrame(graphing)\n",
    "        ax=dfs.plot(kind='bar',color=colors)\n",
    "        img=ax.get_figure()\n",
    "        img.savefig(\"img\"+str(i)+\".png\")"
   ]
  },
  {
   "cell_type": "code",
   "execution_count": 76,
   "metadata": {},
   "outputs": [
    {
     "data": {
      "text/plain": [
       "70    0\n",
       "71    1\n",
       "72    2\n",
       "73    3\n",
       "74    4\n",
       "75    5\n",
       "76    6\n",
       "77    0\n",
       "78    1\n",
       "79    2\n",
       "80    3\n",
       "81    4\n",
       "82    5\n",
       "83    6\n",
       "84    0\n",
       "85    1\n",
       "86    2\n",
       "87    3\n",
       "88    4\n",
       "89    5\n",
       "90    6\n",
       "91    0\n",
       "92    1\n",
       "93    2\n",
       "94    3\n",
       "95    4\n",
       "96    5\n",
       "97    6\n",
       "98    0\n",
       "99    1\n",
       "Name: DAY, dtype: int64"
      ]
     },
     "execution_count": 76,
     "metadata": {},
     "output_type": "execute_result"
    }
   ],
   "source": []
  },
  {
   "cell_type": "code",
   "execution_count": 20,
   "metadata": {},
   "outputs": [
    {
     "data": {
      "text/plain": [
       "'[{\"fromTime\": 23, \"toTime\": 3, \"urlImage\": \"192.168.43.189/img0.png\", \"estTraffic\": 544.3892857142857}, {\"fromTime\": 3, \"toTime\": 7, \"urlImage\": \"192.168.43.189/img1.png\", \"estTraffic\": 359.0035714285714}, {\"fromTime\": 7, \"toTime\": 11, \"urlImage\": \"192.168.43.189/img2.png\", \"estTraffic\": 727.6142857142856}, {\"fromTime\": 11, \"toTime\": 15, \"urlImage\": \"192.168.43.189/img3.png\", \"estTraffic\": 1255.4857142857145}, {\"fromTime\": 15, \"toTime\": 19, \"urlImage\": \"192.168.43.189/img4.png\", \"estTraffic\": 1104.3249999999998}, {\"fromTime\": 19, \"toTime\": 23, \"urlImage\": \"192.168.43.189/img5.png\", \"estTraffic\": 906.4071428571428}]'"
      ]
     },
     "execution_count": 20,
     "metadata": {},
     "output_type": "execute_result"
    }
   ],
   "source": [
    "json.dumps(a)"
   ]
  },
  {
   "cell_type": "code",
   "execution_count": 132,
   "metadata": {},
   "outputs": [],
   "source": [
    "data=pd.read_csv(\"file.csv\")\n",
    "data.dropna(inplace=True)\n",
    "x_axis=round(70/100*data.shape[0])\n",
    "y_axis=data.shape[0]-x_axis\n"
   ]
  },
  {
   "cell_type": "code",
   "execution_count": 133,
   "metadata": {},
   "outputs": [],
   "source": [
    "    now = datetime.datetime.now()\n",
    "    hour=now.hour\n",
    "    if (hour>=23 and hour<24) or (hour>0 and hour<3):\n",
    "        slot=1\n",
    "        from_time=3\n",
    "    if hour>=3 and hour<7:\n",
    "        slot=2\n",
    "        from_time=7\n",
    "    if hour>=7 and hour<11:\n",
    "        slot=3\n",
    "        from_time=11\n",
    "    if hour>=11 and hour<15:\n",
    "        slot=4\n",
    "        from_time=15\n",
    "    if hour>=15 and hour<19:\n",
    "        slot=5\n",
    "        from_time=19\n",
    "    if hour>=19 and hour<23:\n",
    "        slot=0\n",
    "        from_time=23\n",
    "        \n",
    "    \n",
    "    baseurl=get_lan_ip()+\"/img\"\n",
    "    graphing=[0,0,0,0,0,0]\n",
    "    a=[0,0,0,0,0,0]\n",
    "    x=0\n",
    "    nextday=0\n",
    "    r=http.request('GET','http://localhost/max_bidding.php')\n",
    "    js=json.loads(r.data)\n",
    "#     for j in js:\n",
    "#         print(j['time'])\n"
   ]
  },
  {
   "cell_type": "code",
   "execution_count": 131,
   "metadata": {},
   "outputs": [
    {
     "data": {
      "text/plain": [
       "0"
      ]
     },
     "execution_count": 131,
     "metadata": {},
     "output_type": "execute_result"
    }
   ],
   "source": [
    "x"
   ]
  },
  {
   "cell_type": "code",
   "execution_count": 134,
   "metadata": {},
   "outputs": [
    {
     "name": "stdout",
     "output_type": "stream",
     "text": [
      "[0 1 2 3 4 5 6 0 1 2 3 4 5]\n",
      "[0 1 2 3 4 5 6 0 1 2 3 4 5]\n",
      "[0 1 2 3 4 5 6 0 1 2 3 4 5]\n",
      "[0 1 2 3 4 5 6 0 1 2 3 4 5]\n",
      "[0 1 2 3 4 5 6 0 1 2 3 4 5]\n",
      "[0 1 2 3 4 5 6 0 1 2 3 4 5]\n"
     ]
    },
    {
     "name": "stderr",
     "output_type": "stream",
     "text": [
      "/Users/ronaksakhuja/anaconda/lib/python3.6/site-packages/ipykernel_launcher.py:10: FutureWarning: reshape is deprecated and will raise in a subsequent release. Please use .values.reshape(...) instead\n",
      "  # Remove the CWD from sys.path while we load stuff.\n",
      "/Users/ronaksakhuja/anaconda/lib/python3.6/site-packages/matplotlib/pyplot.py:523: RuntimeWarning: More than 20 figures have been opened. Figures created through the pyplot interface (`matplotlib.pyplot.figure`) are retained until explicitly closed and may consume too much memory. (To control this warning, see the rcParam `figure.max_open_warning`).\n",
      "  max_open_warning, RuntimeWarning)\n"
     ]
    }
   ],
   "source": [
    "    for i in range(6):\n",
    "        train_x=np.array(data.iloc[:x_axis,1])\n",
    "        print(train_x)\n",
    "\n",
    "        train_y=np.array(data.iloc[:x_axis,2+slot])\n",
    "        test=data.iloc[x_axis:,1]\n",
    "        import datetime\n",
    "        model=linear_model.LinearRegression()\n",
    "        train_x=train_x.reshape(-1,1)\n",
    "        test=test.reshape(-1,1)\n",
    "        model.fit(train_x,train_y)\n",
    "        day=now.strftime(\"%w\")\n",
    "        y=model.predict(np.array(int(day)+nextday).reshape(-1,1))\n",
    "        graphing[x]=y[0]\n",
    "        for j in js:\n",
    "            if j['time']==str(from_time):\n",
    "                a[x]={\"fromTime\":from_time,\"toTime\":(from_time+4)%24,\"urlImage\":baseurl+str(slot)+\".png\",\"estTraffic\":y[0],\"maxBid\":j['max_bid'],\"minBid\":j['min_bid']}\n",
    "        from_time=from_time+4\n",
    "        if(from_time>24):\n",
    "            from_time=from_time%24\n",
    "        if slot == 5:\n",
    "            slot=-1\n",
    "            nextday=1\n",
    "        slot=slot+1\n",
    "        x=x+1\n",
    "\n",
    "\n",
    "    for i in range(6):\n",
    "        colors=['g']*(i)+['b']+['g']*(6-i-1)\n",
    "        dfs=pd.DataFrame(graphing)\n",
    "        ax=dfs.plot(kind='bar',color=colors)\n",
    "        img=ax.get_figure()\n",
    "        img.savefig(\"img\"+str(i)+\".png\")"
   ]
  },
  {
   "cell_type": "code",
   "execution_count": 135,
   "metadata": {},
   "outputs": [
    {
     "data": {
      "text/plain": [
       "[{'estTraffic': 187.97342192691028,\n",
       "  'fromTime': 7,\n",
       "  'maxBid': '3001',\n",
       "  'minBid': '2950',\n",
       "  'toTime': 11,\n",
       "  'urlImage': '192.168.43.189/img2.png'},\n",
       " {'estTraffic': 119.75415282392026,\n",
       "  'fromTime': 11,\n",
       "  'maxBid': '4400',\n",
       "  'minBid': '3780',\n",
       "  'toTime': 15,\n",
       "  'urlImage': '192.168.43.189/img3.png'},\n",
       " {'estTraffic': 167.62790697674419,\n",
       "  'fromTime': 15,\n",
       "  'maxBid': '3500',\n",
       "  'minBid': '3500',\n",
       "  'toTime': 19,\n",
       "  'urlImage': '192.168.43.189/img4.png'},\n",
       " {'estTraffic': 127.40531561461793,\n",
       "  'fromTime': 19,\n",
       "  'maxBid': '3010',\n",
       "  'minBid': '3010',\n",
       "  'toTime': 23,\n",
       "  'urlImage': '192.168.43.189/img5.png'},\n",
       " {'estTraffic': 148.29568106312294,\n",
       "  'fromTime': 23,\n",
       "  'maxBid': '1000',\n",
       "  'minBid': '2500',\n",
       "  'toTime': 3,\n",
       "  'urlImage': '192.168.43.189/img0.png'},\n",
       " {'estTraffic': 142.95847176079732,\n",
       "  'fromTime': 3,\n",
       "  'maxBid': '27510',\n",
       "  'minBid': '2750',\n",
       "  'toTime': 7,\n",
       "  'urlImage': '192.168.43.189/img1.png'}]"
      ]
     },
     "execution_count": 135,
     "metadata": {},
     "output_type": "execute_result"
    }
   ],
   "source": [
    "a"
   ]
  },
  {
   "cell_type": "code",
   "execution_count": null,
   "metadata": {},
   "outputs": [],
   "source": []
  },
  {
   "cell_type": "code",
   "execution_count": null,
   "metadata": {},
   "outputs": [],
   "source": []
  },
  {
   "cell_type": "code",
   "execution_count": 13,
   "metadata": {
    "collapsed": true
   },
   "outputs": [],
   "source": []
  },
  {
   "cell_type": "code",
   "execution_count": 14,
   "metadata": {
    "collapsed": true
   },
   "outputs": [],
   "source": []
  },
  {
   "cell_type": "code",
   "execution_count": null,
   "metadata": {},
   "outputs": [],
   "source": []
  },
  {
   "cell_type": "code",
   "execution_count": null,
   "metadata": {
    "collapsed": true
   },
   "outputs": [],
   "source": []
  },
  {
   "cell_type": "code",
   "execution_count": null,
   "metadata": {},
   "outputs": [],
   "source": []
  },
  {
   "cell_type": "code",
   "execution_count": null,
   "metadata": {},
   "outputs": [],
   "source": []
  },
  {
   "cell_type": "code",
   "execution_count": null,
   "metadata": {
    "collapsed": true
   },
   "outputs": [],
   "source": []
  }
 ],
 "metadata": {
  "kernelspec": {
   "display_name": "Python 3",
   "language": "python",
   "name": "python3"
  },
  "language_info": {
   "codemirror_mode": {
    "name": "ipython",
    "version": 3
   },
   "file_extension": ".py",
   "mimetype": "text/x-python",
   "name": "python",
   "nbconvert_exporter": "python",
   "pygments_lexer": "ipython3",
   "version": "3.6.1"
  }
 },
 "nbformat": 4,
 "nbformat_minor": 2
}
